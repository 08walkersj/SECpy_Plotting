{
 "cells": [
  {
   "cell_type": "markdown",
   "id": "ca555eb0",
   "metadata": {},
   "source": [
    "# Time Series\n",
    "\n",
    "The following notebook is for plotting a time series of the SECS dataset, as shown in Figure 8 in the paper"
   ]
  },
  {
   "cell_type": "markdown",
   "id": "d389c428",
   "metadata": {},
   "source": [
    "## Imports\n",
    "A different backend is used to produe the figure in a new window as figures produced within notebook are limited in size and make it hard to see this type of figure"
   ]
  },
  {
   "cell_type": "code",
   "execution_count": 1,
   "id": "8cced0a1",
   "metadata": {},
   "outputs": [],
   "source": [
    "%matplotlib qt\n",
    "import pandas as pd\n",
    "import matplotlib.pyplot as plt\n",
    "import numpy as np\n",
    "from datetime import datetime\n",
    "import matplotlib as mpl\n",
    "from apexpy import Apex\n",
    "from matplotlib import dates as mdates"
   ]
  },
  {
   "cell_type": "markdown",
   "id": "41967305",
   "metadata": {},
   "source": [
    "## Defintions required for having MLT and UT x axes"
   ]
  },
  {
   "cell_type": "code",
   "execution_count": 2,
   "id": "6464cbaa",
   "metadata": {},
   "outputs": [],
   "source": [
    "A=Apex()\n",
    "def UT_to_mlt(UT):\n",
    "    return [A.mlon2mlt(105, UT)]\n",
    "@mpl.ticker.FuncFormatter\n",
    "def MLTformatter(x, pos):\n",
    "    \"\"\"Assuming input x is a matplotlib datenum, convert x to MLT\"\"\"\n",
    "    return \"{:04.1f}\".format(UT_to_mlt(mpl.dates.num2date(x))[0])"
   ]
  },
  {
   "cell_type": "markdown",
   "id": "684d8e4b",
   "metadata": {},
   "source": [
    "## Pick the start and end of the time series"
   ]
  },
  {
   "cell_type": "code",
   "execution_count": 3,
   "id": "187cc167",
   "metadata": {},
   "outputs": [],
   "source": [
    "start, end= np.datetime64('2000-01-28T01:00'), np.datetime64('2000-01-28T04:00')"
   ]
  },
  {
   "cell_type": "markdown",
   "id": "b90de0e8",
   "metadata": {},
   "source": [
    "## Loading the data and making selection"
   ]
  },
  {
   "cell_type": "code",
   "execution_count": 4,
   "id": "1dcce99d",
   "metadata": {},
   "outputs": [],
   "source": [
    "df= pd.read_csv('Meridian_Data.csv', index_col=0, parse_dates=['Date_UTC'])\n",
    "df= df[(df.Date_UTC>=start)&(df.Date_UTC<=end)]\n",
    "df.set_index('Date_UTC', inplace=True)\n",
    "columns= df.columns\n",
    "Cur_E= columns[1:51]\n",
    "Cur_N= columns[51:101]\n",
    "Br= columns[101:]"
   ]
  },
  {
   "cell_type": "markdown",
   "id": "5742cfbb",
   "metadata": {},
   "source": [
    "## Creating the figure"
   ]
  },
  {
   "cell_type": "code",
   "execution_count": 5,
   "id": "7e76009f",
   "metadata": {},
   "outputs": [],
   "source": [
    "fig=plt.figure()\n",
    "gs= fig.add_gridspec(4, 1, height_ratios= [.1, 1, .2, .05], hspace=0)\n",
    "ax= fig.add_subplot(gs[1])\n",
    "cax= fig.add_subplot(gs[3])\n",
    "cbar=fig.colorbar(mpl.cm.ScalarMappable(norm = mpl.colors.Normalize(vmin=-2E2, vmax=2E2), \n",
    "                                        cmap=mpl.cm.seismic), cax=cax, \n",
    "                  orientation='horizontal', extend='both')"
   ]
  },
  {
   "cell_type": "code",
   "execution_count": 6,
   "id": "ebaaf83c",
   "metadata": {},
   "outputs": [],
   "source": [
    "mlat=np.linspace(49, 81)\n",
    "cf= ax.contourf(np.array([np.vstack(df.index.values)]*50).T[0],\n",
    "                np.array([mlat]*len(df.index.values)), df[Br].values*1e9,\n",
    "                cmap=mpl.cm.seismic, levels=100, vmin=-2e2, vmax=2e2)\n",
    "cf.set_clim(-2e2, 2e2)"
   ]
  },
  {
   "cell_type": "code",
   "execution_count": 7,
   "id": "aa2bab2c",
   "metadata": {},
   "outputs": [],
   "source": [
    "df=df.resample('5min').mean()\n",
    "CurQ=ax.quiver(np.array([np.vstack(df.index.values)]*25).T.flatten(), \n",
    "          np.array([mlat[::2]]*len(df.index.values)).flatten(),\n",
    "          df[Cur_E[::2]].values.flatten(), df[Cur_N[::2]].values.flatten(),\n",
    "          scale=20, width=.003)"
   ]
  },
  {
   "cell_type": "code",
   "execution_count": 8,
   "id": "a9ac35c5",
   "metadata": {},
   "outputs": [
    {
     "data": {
      "text/plain": [
       "Text(0.5, 0.98, '105$^\\\\circ$ Meridian Time Series')"
      ]
     },
     "execution_count": 8,
     "metadata": {},
     "output_type": "execute_result"
    }
   ],
   "source": [
    "ax2 = ax.twiny()\n",
    "_ = ax2.set_xticks(ax.get_xticks())\n",
    "_ = ax2.set_xbound(ax.get_xbound())\n",
    "ax2.xaxis.set_major_formatter(MLTformatter)\n",
    "ax2.set_xlabel('MLT')\n",
    "ax.set_xlabel('Universal Time')\n",
    "ax.tick_params(axis='x', labelsize= 18, width=3) \n",
    "ax.tick_params(axis='y', labelsize= 18, width=3)\n",
    "ax2.tick_params(axis='x', labelsize= 18, width=3) \n",
    "ax2.tick_params(axis='y', labelsize= 18, width=3)\n",
    "ax.tick_params(axis='x', labelsize= 18, width=3) \n",
    "ax.tick_params(axis='y', labelsize= 18, width=3)\n",
    "ax.xaxis.set_major_formatter(mdates.DateFormatter('%H:%M'))\n",
    "ax.quiverkey(CurQ, .5, -0.75, 500e-3, r'500$Akm^{-1}$')\n",
    "ax.set_ylabel('Magnetic Latitude')\n",
    "cbar.set_label(r'Br (nT)')\n",
    "fig.suptitle(r'105$^\\circ$ Meridian Time Series')"
   ]
  },
  {
   "cell_type": "code",
   "execution_count": null,
   "id": "70cae50b",
   "metadata": {},
   "outputs": [],
   "source": []
  }
 ],
 "metadata": {
  "kernelspec": {
   "display_name": "Python 3 (ipykernel)",
   "language": "python",
   "name": "python3"
  },
  "language_info": {
   "codemirror_mode": {
    "name": "ipython",
    "version": 3
   },
   "file_extension": ".py",
   "mimetype": "text/x-python",
   "name": "python",
   "nbconvert_exporter": "python",
   "pygments_lexer": "ipython3",
   "version": "3.8.10"
  }
 },
 "nbformat": 4,
 "nbformat_minor": 5
}
