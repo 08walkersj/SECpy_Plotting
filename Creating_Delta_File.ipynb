{
 "cells": [
  {
   "cell_type": "markdown",
   "id": "b7468a8d",
   "metadata": {},
   "source": [
    "# Delta SECS File\n",
    "This notebook explains how to create the files required to produce the dBr/dt plots (Figure 6 and 7) in the paper. It should be noted that these steps can be repeated for other columns in the data set producing statisitics on the other magnetic field components and the eastward and northward divergence-free sheet current density"
   ]
  },
  {
   "cell_type": "markdown",
   "id": "a525ae82",
   "metadata": {},
   "source": [
    "## Imports"
   ]
  },
  {
   "cell_type": "code",
   "execution_count": 1,
   "id": "a59e7383",
   "metadata": {},
   "outputs": [],
   "source": [
    "import pandas as pd\n",
    "import numpy as np"
   ]
  },
  {
   "cell_type": "markdown",
   "id": "9d6cd329",
   "metadata": {},
   "source": [
    "## Loading Data"
   ]
  },
  {
   "cell_type": "code",
   "execution_count": 2,
   "id": "221770a9",
   "metadata": {},
   "outputs": [],
   "source": [
    "data= pd.read_csv('Meridian_Data.csv', index_col=0, parse_dates=['Date_UTC'])"
   ]
  },
  {
   "cell_type": "markdown",
   "id": "b18d9021",
   "metadata": {},
   "source": [
    "Creating index that selects times where there is a larger gap in data than the miniumum cadence. This is caused by gaps in the magnetometer data."
   ]
  },
  {
   "cell_type": "code",
   "execution_count": 3,
   "id": "0264cd4b",
   "metadata": {},
   "outputs": [],
   "source": [
    "ind= np.diff(data.Date_UTC.values)>np.timedelta64(1, 'm')"
   ]
  },
  {
   "cell_type": "markdown",
   "id": "276b432e",
   "metadata": {},
   "source": [
    "## Outputting Delta File\n",
    "dBr/dt is calculated across the data set and the inverse of the index is used to remove gaps greater than 1 minute. Data is then saved as a csv for use in figures 6 and 7 from the paper."
   ]
  },
  {
   "cell_type": "code",
   "execution_count": 4,
   "id": "88334281",
   "metadata": {},
   "outputs": [],
   "source": [
    "df= pd.DataFrame(columns=['Date_UTC', 'MLT']+[f'dBr_{i}' for i in range(50)])\n",
    "df[[f'dBr_{i}' for i in range(50)]]= np.diff(data[[f'Br_{i}' for i in range(50)]].values, axis=0)[~ind]\n",
    "df['Date_UTC']= data.Date_UTC.values[1:][~ind]\n",
    "df['MLT']= data.MLT.values[1:][~ind]\n",
    "df.to_csv('DeltaBr.csv')"
   ]
  }
 ],
 "metadata": {
  "kernelspec": {
   "display_name": "Python 3 (ipykernel)",
   "language": "python",
   "name": "python3"
  },
  "language_info": {
   "codemirror_mode": {
    "name": "ipython",
    "version": 3
   },
   "file_extension": ".py",
   "mimetype": "text/x-python",
   "name": "python",
   "nbconvert_exporter": "python",
   "pygments_lexer": "ipython3",
   "version": "3.8.10"
  }
 },
 "nbformat": 4,
 "nbformat_minor": 5
}
